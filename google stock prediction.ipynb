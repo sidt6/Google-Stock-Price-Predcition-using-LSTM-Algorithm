{
  "nbformat": 4,
  "nbformat_minor": 0,
  "metadata": {
    "colab": {
      "provenance": []
    },
    "kernelspec": {
      "name": "python3",
      "display_name": "Python 3"
    },
    "language_info": {
      "name": "python"
    }
  },
  "cells": [
    {
      "cell_type": "markdown",
      "source": [
        "# TITLE : \n",
        "\n",
        "STOCK  PRICE PREDICTION USING LSTM ALGORITHM "
      ],
      "metadata": {
        "id": "OtTeq0q9pApg"
      }
    },
    {
      "cell_type": "markdown",
      "source": [
        "# MEMBERS: \n",
        "SIDDHARTH THAKUR (20BCE1144)\n",
        "\n",
        "PRAKUL VYAS (20BCE1273)\n",
        "\n",
        "PRIYANSHU KAPOOR (20BCE1701)"
      ],
      "metadata": {
        "id": "wp5jXFLApXK7"
      }
    },
    {
      "cell_type": "markdown",
      "source": [
        "Importing all neccessary libraries"
      ],
      "metadata": {
        "id": "KcYA81gMp4Fe"
      }
    },
    {
      "cell_type": "code",
      "execution_count": 2,
      "metadata": {
        "colab": {
          "base_uri": "https://localhost:8080/",
          "height": 438
        },
        "id": "pGzPIBWfGGg2",
        "outputId": "8ea77c72-b64b-4db1-b85e-2bbdaf55d561"
      },
      "outputs": [
        {
          "output_type": "display_data",
          "data": {
            "text/plain": [
              "<IPython.core.display.HTML object>"
            ],
            "text/html": [
              "\n",
              "     <input type=\"file\" id=\"files-b1ecbbaa-f9ba-4418-a201-44dd48dacdd5\" name=\"files[]\" multiple disabled\n",
              "        style=\"border:none\" />\n",
              "     <output id=\"result-b1ecbbaa-f9ba-4418-a201-44dd48dacdd5\">\n",
              "      Upload widget is only available when the cell has been executed in the\n",
              "      current browser session. Please rerun this cell to enable.\n",
              "      </output>\n",
              "      <script>// Copyright 2017 Google LLC\n",
              "//\n",
              "// Licensed under the Apache License, Version 2.0 (the \"License\");\n",
              "// you may not use this file except in compliance with the License.\n",
              "// You may obtain a copy of the License at\n",
              "//\n",
              "//      http://www.apache.org/licenses/LICENSE-2.0\n",
              "//\n",
              "// Unless required by applicable law or agreed to in writing, software\n",
              "// distributed under the License is distributed on an \"AS IS\" BASIS,\n",
              "// WITHOUT WARRANTIES OR CONDITIONS OF ANY KIND, either express or implied.\n",
              "// See the License for the specific language governing permissions and\n",
              "// limitations under the License.\n",
              "\n",
              "/**\n",
              " * @fileoverview Helpers for google.colab Python module.\n",
              " */\n",
              "(function(scope) {\n",
              "function span(text, styleAttributes = {}) {\n",
              "  const element = document.createElement('span');\n",
              "  element.textContent = text;\n",
              "  for (const key of Object.keys(styleAttributes)) {\n",
              "    element.style[key] = styleAttributes[key];\n",
              "  }\n",
              "  return element;\n",
              "}\n",
              "\n",
              "// Max number of bytes which will be uploaded at a time.\n",
              "const MAX_PAYLOAD_SIZE = 100 * 1024;\n",
              "\n",
              "function _uploadFiles(inputId, outputId) {\n",
              "  const steps = uploadFilesStep(inputId, outputId);\n",
              "  const outputElement = document.getElementById(outputId);\n",
              "  // Cache steps on the outputElement to make it available for the next call\n",
              "  // to uploadFilesContinue from Python.\n",
              "  outputElement.steps = steps;\n",
              "\n",
              "  return _uploadFilesContinue(outputId);\n",
              "}\n",
              "\n",
              "// This is roughly an async generator (not supported in the browser yet),\n",
              "// where there are multiple asynchronous steps and the Python side is going\n",
              "// to poll for completion of each step.\n",
              "// This uses a Promise to block the python side on completion of each step,\n",
              "// then passes the result of the previous step as the input to the next step.\n",
              "function _uploadFilesContinue(outputId) {\n",
              "  const outputElement = document.getElementById(outputId);\n",
              "  const steps = outputElement.steps;\n",
              "\n",
              "  const next = steps.next(outputElement.lastPromiseValue);\n",
              "  return Promise.resolve(next.value.promise).then((value) => {\n",
              "    // Cache the last promise value to make it available to the next\n",
              "    // step of the generator.\n",
              "    outputElement.lastPromiseValue = value;\n",
              "    return next.value.response;\n",
              "  });\n",
              "}\n",
              "\n",
              "/**\n",
              " * Generator function which is called between each async step of the upload\n",
              " * process.\n",
              " * @param {string} inputId Element ID of the input file picker element.\n",
              " * @param {string} outputId Element ID of the output display.\n",
              " * @return {!Iterable<!Object>} Iterable of next steps.\n",
              " */\n",
              "function* uploadFilesStep(inputId, outputId) {\n",
              "  const inputElement = document.getElementById(inputId);\n",
              "  inputElement.disabled = false;\n",
              "\n",
              "  const outputElement = document.getElementById(outputId);\n",
              "  outputElement.innerHTML = '';\n",
              "\n",
              "  const pickedPromise = new Promise((resolve) => {\n",
              "    inputElement.addEventListener('change', (e) => {\n",
              "      resolve(e.target.files);\n",
              "    });\n",
              "  });\n",
              "\n",
              "  const cancel = document.createElement('button');\n",
              "  inputElement.parentElement.appendChild(cancel);\n",
              "  cancel.textContent = 'Cancel upload';\n",
              "  const cancelPromise = new Promise((resolve) => {\n",
              "    cancel.onclick = () => {\n",
              "      resolve(null);\n",
              "    };\n",
              "  });\n",
              "\n",
              "  // Wait for the user to pick the files.\n",
              "  const files = yield {\n",
              "    promise: Promise.race([pickedPromise, cancelPromise]),\n",
              "    response: {\n",
              "      action: 'starting',\n",
              "    }\n",
              "  };\n",
              "\n",
              "  cancel.remove();\n",
              "\n",
              "  // Disable the input element since further picks are not allowed.\n",
              "  inputElement.disabled = true;\n",
              "\n",
              "  if (!files) {\n",
              "    return {\n",
              "      response: {\n",
              "        action: 'complete',\n",
              "      }\n",
              "    };\n",
              "  }\n",
              "\n",
              "  for (const file of files) {\n",
              "    const li = document.createElement('li');\n",
              "    li.append(span(file.name, {fontWeight: 'bold'}));\n",
              "    li.append(span(\n",
              "        `(${file.type || 'n/a'}) - ${file.size} bytes, ` +\n",
              "        `last modified: ${\n",
              "            file.lastModifiedDate ? file.lastModifiedDate.toLocaleDateString() :\n",
              "                                    'n/a'} - `));\n",
              "    const percent = span('0% done');\n",
              "    li.appendChild(percent);\n",
              "\n",
              "    outputElement.appendChild(li);\n",
              "\n",
              "    const fileDataPromise = new Promise((resolve) => {\n",
              "      const reader = new FileReader();\n",
              "      reader.onload = (e) => {\n",
              "        resolve(e.target.result);\n",
              "      };\n",
              "      reader.readAsArrayBuffer(file);\n",
              "    });\n",
              "    // Wait for the data to be ready.\n",
              "    let fileData = yield {\n",
              "      promise: fileDataPromise,\n",
              "      response: {\n",
              "        action: 'continue',\n",
              "      }\n",
              "    };\n",
              "\n",
              "    // Use a chunked sending to avoid message size limits. See b/62115660.\n",
              "    let position = 0;\n",
              "    do {\n",
              "      const length = Math.min(fileData.byteLength - position, MAX_PAYLOAD_SIZE);\n",
              "      const chunk = new Uint8Array(fileData, position, length);\n",
              "      position += length;\n",
              "\n",
              "      const base64 = btoa(String.fromCharCode.apply(null, chunk));\n",
              "      yield {\n",
              "        response: {\n",
              "          action: 'append',\n",
              "          file: file.name,\n",
              "          data: base64,\n",
              "        },\n",
              "      };\n",
              "\n",
              "      let percentDone = fileData.byteLength === 0 ?\n",
              "          100 :\n",
              "          Math.round((position / fileData.byteLength) * 100);\n",
              "      percent.textContent = `${percentDone}% done`;\n",
              "\n",
              "    } while (position < fileData.byteLength);\n",
              "  }\n",
              "\n",
              "  // All done.\n",
              "  yield {\n",
              "    response: {\n",
              "      action: 'complete',\n",
              "    }\n",
              "  };\n",
              "}\n",
              "\n",
              "scope.google = scope.google || {};\n",
              "scope.google.colab = scope.google.colab || {};\n",
              "scope.google.colab._files = {\n",
              "  _uploadFiles,\n",
              "  _uploadFilesContinue,\n",
              "};\n",
              "})(self);\n",
              "</script> "
            ]
          },
          "metadata": {}
        },
        {
          "output_type": "stream",
          "name": "stdout",
          "text": [
            "Saving google.csv to google.csv\n",
            "        Date    Open    High     Low   Close   Volume  Year\n",
            "0  30-Jun-17  943.99  945.00  929.61  929.68  2287662  2017\n",
            "1  29-Jun-17  951.35  951.66  929.60  937.82  3206674  2017\n",
            "2  28-Jun-17  950.66  963.24  936.16  961.01  2745568  2017\n",
            "3  27-Jun-17  961.60  967.22  947.09  948.09  2443602  2017\n",
            "4  26-Jun-17  990.00  993.99  970.33  972.09  1517912  2017\n",
            "\n",
            "            Date    Open    High     Low   Close    Volume  Year\n",
            "0     30-Jun-17  943.99  945.00  929.61  929.68   2287662  2017\n",
            "1     29-Jun-17  951.35  951.66  929.60  937.82   3206674  2017\n",
            "2     28-Jun-17  950.66  963.24  936.16  961.01   2745568  2017\n",
            "3     27-Jun-17  961.60  967.22  947.09  948.09   2443602  2017\n",
            "4     26-Jun-17  990.00  993.99  970.33  972.09   1517912  2017\n",
            "...         ...     ...     ...     ...     ...       ...   ...\n",
            "3140  07-Jan-05   95.42   97.22   94.48   97.02   9666175  2005\n",
            "3141  06-Jan-05   97.72   98.05   93.95   94.37  10389803  2005\n",
            "3142  05-Jan-05   96.82   98.55   96.21   96.85   8239545  2005\n",
            "3143  04-Jan-05  100.77  101.57   96.84   97.35  13762396  2005\n",
            "3144  03-Jan-05   98.80  101.92   97.83  101.46  15860692  2005\n",
            "\n",
            "[3145 rows x 7 columns]\n"
          ]
        }
      ],
      "source": [
        "import numpy as np\n",
        "import pandas as pd\n",
        "import matplotlib.pyplot as plt\n",
        "import seaborn as sb\n",
        " \n",
        "from sklearn.model_selection import train_test_split\n",
        "from sklearn.preprocessing import StandardScaler\n",
        "from sklearn.linear_model import LogisticRegression\n",
        "from sklearn.svm import SVC\n",
        "from xgboost import XGBClassifier\n",
        "from sklearn import metrics\n",
        " \n",
        "import warnings\n",
        "warnings.filterwarnings('ignore')\n",
        "\n",
        "from google.colab import files\n",
        "uploaded = files.upload()\n",
        "\n",
        "import io\n",
        "df = pd.read_csv(io.BytesIO(uploaded['google.csv']))\n",
        "print(df.head())\n",
        "print('\\n', df)\n",
        "from sklearn.preprocessing import MinMaxScaler\n",
        "from keras.layers import LSTM, Dense, Dropout\n",
        "from sklearn.model_selection import TimeSeriesSplit\n",
        "from sklearn.metrics import mean_squared_error, r2_score\n",
        "import matplotlib. dates as mandates\n",
        "from sklearn.preprocessing import MinMaxScaler\n",
        "from sklearn import linear_model\n",
        "from keras.models import Sequential\n",
        "from keras.layers import Dense\n",
        "import keras.backend as K\n",
        "from keras.callbacks import EarlyStopping\n",
        "from tensorflow.keras.optimizers import Adam\n",
        "from keras.models import load_model\n",
        "from keras.layers import LSTM\n",
        "from keras.utils.vis_utils import plot_model"
      ]
    },
    {
      "cell_type": "markdown",
      "source": [
        "Getting dimension sof the datset"
      ],
      "metadata": {
        "id": "kpPk_RFOqG0j"
      }
    },
    {
      "cell_type": "code",
      "source": [
        "df.shape"
      ],
      "metadata": {
        "colab": {
          "base_uri": "https://localhost:8080/",
          "height": 0
        },
        "id": "bih6WYRGHhX6",
        "outputId": "603ebee2-c26b-4a10-a2b5-36fbd33622c0"
      },
      "execution_count": 3,
      "outputs": [
        {
          "output_type": "execute_result",
          "data": {
            "text/plain": [
              "(3145, 7)"
            ]
          },
          "metadata": {},
          "execution_count": 3
        }
      ]
    },
    {
      "cell_type": "markdown",
      "source": [
        "Describing the basic mathemetical operations on dataset"
      ],
      "metadata": {
        "id": "Te55yjIRqLn0"
      }
    },
    {
      "cell_type": "code",
      "source": [
        "df.describe()"
      ],
      "metadata": {
        "colab": {
          "base_uri": "https://localhost:8080/",
          "height": 300
        },
        "id": "c2FIHytOHkwp",
        "outputId": "f6cecd21-78de-4817-c9d4-0293331b7123"
      },
      "execution_count": 4,
      "outputs": [
        {
          "output_type": "execute_result",
          "data": {
            "text/plain": [
              "              Open         High          Low        Close        Volume  \\\n",
              "count  3145.000000  3145.000000  3145.000000  3145.000000  3.145000e+03   \n",
              "mean    382.514169   385.872099   378.737126   382.350248  4.205708e+06   \n",
              "std     213.520466   214.636421   212.113835   213.469899  3.878100e+06   \n",
              "min      87.740000    89.290000    86.370000    87.580000  5.211410e+05   \n",
              "25%     232.380000   234.890000   230.400000   232.440000  1.889613e+06   \n",
              "50%     296.280000   298.520000   293.640000   296.050000  2.811069e+06   \n",
              "75%     544.000000   548.220000   539.850000   543.650000  5.232088e+06   \n",
              "max    1005.490000  1008.610000   996.620000  1004.280000  4.118289e+07   \n",
              "\n",
              "              Year  \n",
              "count  3145.000000  \n",
              "mean   2010.759300  \n",
              "std       3.614485  \n",
              "min    2005.000000  \n",
              "25%    2008.000000  \n",
              "50%    2011.000000  \n",
              "75%    2014.000000  \n",
              "max    2017.000000  "
            ],
            "text/html": [
              "\n",
              "  <div id=\"df-7834516a-3062-4fe2-b684-10ded31434ec\">\n",
              "    <div class=\"colab-df-container\">\n",
              "      <div>\n",
              "<style scoped>\n",
              "    .dataframe tbody tr th:only-of-type {\n",
              "        vertical-align: middle;\n",
              "    }\n",
              "\n",
              "    .dataframe tbody tr th {\n",
              "        vertical-align: top;\n",
              "    }\n",
              "\n",
              "    .dataframe thead th {\n",
              "        text-align: right;\n",
              "    }\n",
              "</style>\n",
              "<table border=\"1\" class=\"dataframe\">\n",
              "  <thead>\n",
              "    <tr style=\"text-align: right;\">\n",
              "      <th></th>\n",
              "      <th>Open</th>\n",
              "      <th>High</th>\n",
              "      <th>Low</th>\n",
              "      <th>Close</th>\n",
              "      <th>Volume</th>\n",
              "      <th>Year</th>\n",
              "    </tr>\n",
              "  </thead>\n",
              "  <tbody>\n",
              "    <tr>\n",
              "      <th>count</th>\n",
              "      <td>3145.000000</td>\n",
              "      <td>3145.000000</td>\n",
              "      <td>3145.000000</td>\n",
              "      <td>3145.000000</td>\n",
              "      <td>3.145000e+03</td>\n",
              "      <td>3145.000000</td>\n",
              "    </tr>\n",
              "    <tr>\n",
              "      <th>mean</th>\n",
              "      <td>382.514169</td>\n",
              "      <td>385.872099</td>\n",
              "      <td>378.737126</td>\n",
              "      <td>382.350248</td>\n",
              "      <td>4.205708e+06</td>\n",
              "      <td>2010.759300</td>\n",
              "    </tr>\n",
              "    <tr>\n",
              "      <th>std</th>\n",
              "      <td>213.520466</td>\n",
              "      <td>214.636421</td>\n",
              "      <td>212.113835</td>\n",
              "      <td>213.469899</td>\n",
              "      <td>3.878100e+06</td>\n",
              "      <td>3.614485</td>\n",
              "    </tr>\n",
              "    <tr>\n",
              "      <th>min</th>\n",
              "      <td>87.740000</td>\n",
              "      <td>89.290000</td>\n",
              "      <td>86.370000</td>\n",
              "      <td>87.580000</td>\n",
              "      <td>5.211410e+05</td>\n",
              "      <td>2005.000000</td>\n",
              "    </tr>\n",
              "    <tr>\n",
              "      <th>25%</th>\n",
              "      <td>232.380000</td>\n",
              "      <td>234.890000</td>\n",
              "      <td>230.400000</td>\n",
              "      <td>232.440000</td>\n",
              "      <td>1.889613e+06</td>\n",
              "      <td>2008.000000</td>\n",
              "    </tr>\n",
              "    <tr>\n",
              "      <th>50%</th>\n",
              "      <td>296.280000</td>\n",
              "      <td>298.520000</td>\n",
              "      <td>293.640000</td>\n",
              "      <td>296.050000</td>\n",
              "      <td>2.811069e+06</td>\n",
              "      <td>2011.000000</td>\n",
              "    </tr>\n",
              "    <tr>\n",
              "      <th>75%</th>\n",
              "      <td>544.000000</td>\n",
              "      <td>548.220000</td>\n",
              "      <td>539.850000</td>\n",
              "      <td>543.650000</td>\n",
              "      <td>5.232088e+06</td>\n",
              "      <td>2014.000000</td>\n",
              "    </tr>\n",
              "    <tr>\n",
              "      <th>max</th>\n",
              "      <td>1005.490000</td>\n",
              "      <td>1008.610000</td>\n",
              "      <td>996.620000</td>\n",
              "      <td>1004.280000</td>\n",
              "      <td>4.118289e+07</td>\n",
              "      <td>2017.000000</td>\n",
              "    </tr>\n",
              "  </tbody>\n",
              "</table>\n",
              "</div>\n",
              "      <button class=\"colab-df-convert\" onclick=\"convertToInteractive('df-7834516a-3062-4fe2-b684-10ded31434ec')\"\n",
              "              title=\"Convert this dataframe to an interactive table.\"\n",
              "              style=\"display:none;\">\n",
              "        \n",
              "  <svg xmlns=\"http://www.w3.org/2000/svg\" height=\"24px\"viewBox=\"0 0 24 24\"\n",
              "       width=\"24px\">\n",
              "    <path d=\"M0 0h24v24H0V0z\" fill=\"none\"/>\n",
              "    <path d=\"M18.56 5.44l.94 2.06.94-2.06 2.06-.94-2.06-.94-.94-2.06-.94 2.06-2.06.94zm-11 1L8.5 8.5l.94-2.06 2.06-.94-2.06-.94L8.5 2.5l-.94 2.06-2.06.94zm10 10l.94 2.06.94-2.06 2.06-.94-2.06-.94-.94-2.06-.94 2.06-2.06.94z\"/><path d=\"M17.41 7.96l-1.37-1.37c-.4-.4-.92-.59-1.43-.59-.52 0-1.04.2-1.43.59L10.3 9.45l-7.72 7.72c-.78.78-.78 2.05 0 2.83L4 21.41c.39.39.9.59 1.41.59.51 0 1.02-.2 1.41-.59l7.78-7.78 2.81-2.81c.8-.78.8-2.07 0-2.86zM5.41 20L4 18.59l7.72-7.72 1.47 1.35L5.41 20z\"/>\n",
              "  </svg>\n",
              "      </button>\n",
              "      \n",
              "  <style>\n",
              "    .colab-df-container {\n",
              "      display:flex;\n",
              "      flex-wrap:wrap;\n",
              "      gap: 12px;\n",
              "    }\n",
              "\n",
              "    .colab-df-convert {\n",
              "      background-color: #E8F0FE;\n",
              "      border: none;\n",
              "      border-radius: 50%;\n",
              "      cursor: pointer;\n",
              "      display: none;\n",
              "      fill: #1967D2;\n",
              "      height: 32px;\n",
              "      padding: 0 0 0 0;\n",
              "      width: 32px;\n",
              "    }\n",
              "\n",
              "    .colab-df-convert:hover {\n",
              "      background-color: #E2EBFA;\n",
              "      box-shadow: 0px 1px 2px rgba(60, 64, 67, 0.3), 0px 1px 3px 1px rgba(60, 64, 67, 0.15);\n",
              "      fill: #174EA6;\n",
              "    }\n",
              "\n",
              "    [theme=dark] .colab-df-convert {\n",
              "      background-color: #3B4455;\n",
              "      fill: #D2E3FC;\n",
              "    }\n",
              "\n",
              "    [theme=dark] .colab-df-convert:hover {\n",
              "      background-color: #434B5C;\n",
              "      box-shadow: 0px 1px 3px 1px rgba(0, 0, 0, 0.15);\n",
              "      filter: drop-shadow(0px 1px 2px rgba(0, 0, 0, 0.3));\n",
              "      fill: #FFFFFF;\n",
              "    }\n",
              "  </style>\n",
              "\n",
              "      <script>\n",
              "        const buttonEl =\n",
              "          document.querySelector('#df-7834516a-3062-4fe2-b684-10ded31434ec button.colab-df-convert');\n",
              "        buttonEl.style.display =\n",
              "          google.colab.kernel.accessAllowed ? 'block' : 'none';\n",
              "\n",
              "        async function convertToInteractive(key) {\n",
              "          const element = document.querySelector('#df-7834516a-3062-4fe2-b684-10ded31434ec');\n",
              "          const dataTable =\n",
              "            await google.colab.kernel.invokeFunction('convertToInteractive',\n",
              "                                                     [key], {});\n",
              "          if (!dataTable) return;\n",
              "\n",
              "          const docLinkHtml = 'Like what you see? Visit the ' +\n",
              "            '<a target=\"_blank\" href=https://colab.research.google.com/notebooks/data_table.ipynb>data table notebook</a>'\n",
              "            + ' to learn more about interactive tables.';\n",
              "          element.innerHTML = '';\n",
              "          dataTable['output_type'] = 'display_data';\n",
              "          await google.colab.output.renderOutput(dataTable, element);\n",
              "          const docLink = document.createElement('div');\n",
              "          docLink.innerHTML = docLinkHtml;\n",
              "          element.appendChild(docLink);\n",
              "        }\n",
              "      </script>\n",
              "    </div>\n",
              "  </div>\n",
              "  "
            ]
          },
          "metadata": {},
          "execution_count": 4
        }
      ]
    },
    {
      "cell_type": "markdown",
      "source": [
        "Getting information about the dataset"
      ],
      "metadata": {
        "id": "BCdXjjIzqUAF"
      }
    },
    {
      "cell_type": "code",
      "source": [
        "df.info()"
      ],
      "metadata": {
        "colab": {
          "base_uri": "https://localhost:8080/",
          "height": 0
        },
        "id": "A9EJ1DsQHt6z",
        "outputId": "01855a92-41c4-4ab0-9ff7-32f60d6bec26"
      },
      "execution_count": 5,
      "outputs": [
        {
          "output_type": "stream",
          "name": "stdout",
          "text": [
            "<class 'pandas.core.frame.DataFrame'>\n",
            "RangeIndex: 3145 entries, 0 to 3144\n",
            "Data columns (total 7 columns):\n",
            " #   Column  Non-Null Count  Dtype  \n",
            "---  ------  --------------  -----  \n",
            " 0   Date    3145 non-null   object \n",
            " 1   Open    3145 non-null   float64\n",
            " 2   High    3145 non-null   float64\n",
            " 3   Low     3145 non-null   float64\n",
            " 4   Close   3145 non-null   float64\n",
            " 5   Volume  3145 non-null   int64  \n",
            " 6   Year    3145 non-null   int64  \n",
            "dtypes: float64(4), int64(2), object(1)\n",
            "memory usage: 172.1+ KB\n"
          ]
        }
      ]
    },
    {
      "cell_type": "markdown",
      "source": [
        "Plotting thr graph of the closing price of stock on basis of dataset"
      ],
      "metadata": {
        "id": "bqdioEoWqbQi"
      }
    },
    {
      "cell_type": "code",
      "source": [
        "plt.figure(figsize=(20,10))\n",
        "plt.plot(df['Close'])\n",
        "plt.title('Google Close price.', fontsize=18)\n",
        "plt.ylabel('Price in dollars.')\n",
        "plt.show()"
      ],
      "metadata": {
        "colab": {
          "base_uri": "https://localhost:8080/",
          "height": 611
        },
        "id": "HBrCEVdRHwug",
        "outputId": "4a17707e-6ae2-419c-b0b7-4370a5b03636"
      },
      "execution_count": 6,
      "outputs": [
        {
          "output_type": "display_data",
          "data": {
            "text/plain": [
              "<Figure size 1440x720 with 1 Axes>"
            ],
            "image/png": "[encoded data removed]"
          },
          "metadata": {
            "needs_background": "light"
          }
        }
      ]
    },
    {
      "cell_type": "markdown",
      "source": [
        "Printing the top 5 values in dataset"
      ],
      "metadata": {
        "id": "AnxyDF3DqigY"
      }
    },
    {
      "cell_type": "code",
      "source": [
        "df.head()"
      ],
      "metadata": {
        "colab": {
          "base_uri": "https://localhost:8080/",
          "height": 206
        },
        "id": "M-8orP5lIBRo",
        "outputId": "01046fed-98ac-4d8b-ed2a-46f3412ba612"
      },
      "execution_count": 7,
      "outputs": [
        {
          "output_type": "execute_result",
          "data": {
            "text/plain": [
              "        Date    Open    High     Low   Close   Volume  Year\n",
              "0  30-Jun-17  943.99  945.00  929.61  929.68  2287662  2017\n",
              "1  29-Jun-17  951.35  951.66  929.60  937.82  3206674  2017\n",
              "2  28-Jun-17  950.66  963.24  936.16  961.01  2745568  2017\n",
              "3  27-Jun-17  961.60  967.22  947.09  948.09  2443602  2017\n",
              "4  26-Jun-17  990.00  993.99  970.33  972.09  1517912  2017"
            ],
            "text/html": [
              "\n",
              "  <div id=\"df-53388cdc-f4b3-41c2-934e-ba9c2941643e\">\n",
              "    <div class=\"colab-df-container\">\n",
              "      <div>\n",
              "<style scoped>\n",
              "    .dataframe tbody tr th:only-of-type {\n",
              "        vertical-align: middle;\n",
              "    }\n",
              "\n",
              "    .dataframe tbody tr th {\n",
              "        vertical-align: top;\n",
              "    }\n",
              "\n",
              "    .dataframe thead th {\n",
              "        text-align: right;\n",
              "    }\n",
              "</style>\n",
              "<table border=\"1\" class=\"dataframe\">\n",
              "  <thead>\n",
              "    <tr style=\"text-align: right;\">\n",
              "      <th></th>\n",
              "      <th>Date</th>\n",
              "      <th>Open</th>\n",
              "      <th>High</th>\n",
              "      <th>Low</th>\n",
              "      <th>Close</th>\n",
              "      <th>Volume</th>\n",
              "      <th>Year</th>\n",
              "    </tr>\n",
              "  </thead>\n",
              "  <tbody>\n",
              "    <tr>\n",
              "      <th>0</th>\n",
              "      <td>30-Jun-17</td>\n",
              "      <td>943.99</td>\n",
              "      <td>945.00</td>\n",
              "      <td>929.61</td>\n",
              "      <td>929.68</td>\n",
              "      <td>2287662</td>\n",
              "      <td>2017</td>\n",
              "    </tr>\n",
              "    <tr>\n",
              "      <th>1</th>\n",
              "      <td>29-Jun-17</td>\n",
              "      <td>951.35</td>\n",
              "      <td>951.66</td>\n",
              "      <td>929.60</td>\n",
              "      <td>937.82</td>\n",
              "      <td>3206674</td>\n",
              "      <td>2017</td>\n",
              "    </tr>\n",
              "    <tr>\n",
              "      <th>2</th>\n",
              "      <td>28-Jun-17</td>\n",
              "      <td>950.66</td>\n",
              "      <td>963.24</td>\n",
              "      <td>936.16</td>\n",
              "      <td>961.01</td>\n",
              "      <td>2745568</td>\n",
              "      <td>2017</td>\n",
              "    </tr>\n",
              "    <tr>\n",
              "      <th>3</th>\n",
              "      <td>27-Jun-17</td>\n",
              "      <td>961.60</td>\n",
              "      <td>967.22</td>\n",
              "      <td>947.09</td>\n",
              "      <td>948.09</td>\n",
              "      <td>2443602</td>\n",
              "      <td>2017</td>\n",
              "    </tr>\n",
              "    <tr>\n",
              "      <th>4</th>\n",
              "      <td>26-Jun-17</td>\n",
              "      <td>990.00</td>\n",
              "      <td>993.99</td>\n",
              "      <td>970.33</td>\n",
              "      <td>972.09</td>\n",
              "      <td>1517912</td>\n",
              "      <td>2017</td>\n",
              "    </tr>\n",
              "  </tbody>\n",
              "</table>\n",
              "</div>\n",
              "      <button class=\"colab-df-convert\" onclick=\"convertToInteractive('df-53388cdc-f4b3-41c2-934e-ba9c2941643e')\"\n",
              "              title=\"Convert this dataframe to an interactive table.\"\n",
              "              style=\"display:none;\">\n",
              "        \n",
              "  <svg xmlns=\"http://www.w3.org/2000/svg\" height=\"24px\"viewBox=\"0 0 24 24\"\n",
              "       width=\"24px\">\n",
              "    <path d=\"M0 0h24v24H0V0z\" fill=\"none\"/>\n",
              "    <path d=\"M18.56 5.44l.94 2.06.94-2.06 2.06-.94-2.06-.94-.94-2.06-.94 2.06-2.06.94zm-11 1L8.5 8.5l.94-2.06 2.06-.94-2.06-.94L8.5 2.5l-.94 2.06-2.06.94zm10 10l.94 2.06.94-2.06 2.06-.94-2.06-.94-.94-2.06-.94 2.06-2.06.94z\"/><path d=\"M17.41 7.96l-1.37-1.37c-.4-.4-.92-.59-1.43-.59-.52 0-1.04.2-1.43.59L10.3 9.45l-7.72 7.72c-.78.78-.78 2.05 0 2.83L4 21.41c.39.39.9.59 1.41.59.51 0 1.02-.2 1.41-.59l7.78-7.78 2.81-2.81c.8-.78.8-2.07 0-2.86zM5.41 20L4 18.59l7.72-7.72 1.47 1.35L5.41 20z\"/>\n",
              "  </svg>\n",
              "      </button>\n",
              "      \n",
              "  <style>\n",
              "    .colab-df-container {\n",
              "      display:flex;\n",
              "      flex-wrap:wrap;\n",
              "      gap: 12px;\n",
              "    }\n",
              "\n",
              "    .colab-df-convert {\n",
              "      background-color: #E8F0FE;\n",
              "      border: none;\n",
              "      border-radius: 50%;\n",
              "      cursor: pointer;\n",
              "      display: none;\n",
              "      fill: #1967D2;\n",
              "      height: 32px;\n",
              "      padding: 0 0 0 0;\n",
              "      width: 32px;\n",
              "    }\n",
              "\n",
              "    .colab-df-convert:hover {\n",
              "      background-color: #E2EBFA;\n",
              "      box-shadow: 0px 1px 2px rgba(60, 64, 67, 0.3), 0px 1px 3px 1px rgba(60, 64, 67, 0.15);\n",
              "      fill: #174EA6;\n",
              "    }\n",
              "\n",
              "    [theme=dark] .colab-df-convert {\n",
              "      background-color: #3B4455;\n",
              "      fill: #D2E3FC;\n",
              "    }\n",
              "\n",
              "    [theme=dark] .colab-df-convert:hover {\n",
              "      background-color: #434B5C;\n",
              "      box-shadow: 0px 1px 3px 1px rgba(0, 0, 0, 0.15);\n",
              "      filter: drop-shadow(0px 1px 2px rgba(0, 0, 0, 0.3));\n",
              "      fill: #FFFFFF;\n",
              "    }\n",
              "  </style>\n",
              "\n",
              "      <script>\n",
              "        const buttonEl =\n",
              "          document.querySelector('#df-53388cdc-f4b3-41c2-934e-ba9c2941643e button.colab-df-convert');\n",
              "        buttonEl.style.display =\n",
              "          google.colab.kernel.accessAllowed ? 'block' : 'none';\n",
              "\n",
              "        async function convertToInteractive(key) {\n",
              "          const element = document.querySelector('#df-53388cdc-f4b3-41c2-934e-ba9c2941643e');\n",
              "          const dataTable =\n",
              "            await google.colab.kernel.invokeFunction('convertToInteractive',\n",
              "                                                     [key], {});\n",
              "          if (!dataTable) return;\n",
              "\n",
              "          const docLinkHtml = 'Like what you see? Visit the ' +\n",
              "            '<a target=\"_blank\" href=https://colab.research.google.com/notebooks/data_table.ipynb>data table notebook</a>'\n",
              "            + ' to learn more about interactive tables.';\n",
              "          element.innerHTML = '';\n",
              "          dataTable['output_type'] = 'display_data';\n",
              "          await google.colab.output.renderOutput(dataTable, element);\n",
              "          const docLink = document.createElement('div');\n",
              "          docLink.innerHTML = docLinkHtml;\n",
              "          element.appendChild(docLink);\n",
              "        }\n",
              "      </script>\n",
              "    </div>\n",
              "  </div>\n",
              "  "
            ]
          },
          "metadata": {},
          "execution_count": 7
        }
      ]
    },
    {
      "cell_type": "markdown",
      "source": [
        "Calculating the number of zero rows in dataset"
      ],
      "metadata": {
        "id": "CQFTKuLtqp8B"
      }
    },
    {
      "cell_type": "code",
      "source": [
        "df.isnull().sum()"
      ],
      "metadata": {
        "colab": {
          "base_uri": "https://localhost:8080/",
          "height": 0
        },
        "id": "fsydjpGzIMQk",
        "outputId": "cd4733b6-4505-4462-bb44-447e5ba2022c"
      },
      "execution_count": 8,
      "outputs": [
        {
          "output_type": "execute_result",
          "data": {
            "text/plain": [
              "Date      0\n",
              "Open      0\n",
              "High      0\n",
              "Low       0\n",
              "Close     0\n",
              "Volume    0\n",
              "Year      0\n",
              "dtype: int64"
            ]
          },
          "metadata": {},
          "execution_count": 8
        }
      ]
    },
    {
      "cell_type": "markdown",
      "source": [
        "Plotting the coloumnwise graph for datset"
      ],
      "metadata": {
        "id": "rE1eLIOKqwdM"
      }
    },
    {
      "cell_type": "code",
      "source": [
        "features = ['Open', 'High', 'Low', 'Close', 'Volume']\n",
        " \n",
        "plt.subplots(figsize=(30,15))\n",
        " \n",
        "for i, col in enumerate(features):\n",
        "  plt.subplot(2,3,i+1)\n",
        "  sb.distplot(df[col])\n",
        "plt.show()"
      ],
      "metadata": {
        "colab": {
          "base_uri": "https://localhost:8080/",
          "height": 897
        },
        "id": "MU_0UPZSIPeU",
        "outputId": "3863b8f0-dc9b-4434-8930-1edb91fdc62f"
      },
      "execution_count": 9,
      "outputs": [
        {
          "output_type": "display_data",
          "data": {
            "text/plain": [
              "<Figure size 2160x1080 with 5 Axes>"
            ],
            "image/png": "[encoded data removed]"
          },
          "metadata": {
            "needs_background": "light"
          }
        }
      ]
    },
    {
      "cell_type": "code",
      "source": [
        "plt.subplots(figsize=(20,10))\n",
        "for i, col in enumerate(features):\n",
        "  plt.subplot(2,3,i+1)\n",
        "  sb.boxplot(df[col])\n",
        "plt.show()"
      ],
      "metadata": {
        "colab": {
          "base_uri": "https://localhost:8080/",
          "height": 606
        },
        "id": "wjtvJEcGIlCz",
        "outputId": "48706e22-5934-4f2d-91eb-7758f6c7b999"
      },
      "execution_count": 10,
      "outputs": [
        {
          "output_type": "display_data",
          "data": {
            "text/plain": [
              "<Figure size 1440x720 with 5 Axes>"
            ],
            "image/png": "[encoded data removed]"
          },
          "metadata": {
            "needs_background": "light"
          }
        }
      ]
    },
    {
      "cell_type": "markdown",
      "source": [
        "Plotting a pie chart for dataset"
      ],
      "metadata": {
        "id": "WwmanmH_q-_A"
      }
    },
    {
      "cell_type": "code",
      "source": [
        "df['open-close']  = df['Open'] - df['Close']\n",
        "df['low-high']  = df['Low'] - df['High']\n",
        "df['target'] = np.where(df['Close'].shift(-1) > df['Close'], 1, 0)\n",
        "plt.pie(df['target'].value_counts().values,\n",
        "        labels=[0, 1], autopct='%1.1f%%')\n",
        "plt.show()"
      ],
      "metadata": {
        "colab": {
          "base_uri": "https://localhost:8080/",
          "height": 248
        },
        "id": "TOpT2ugMIyXG",
        "outputId": "d53ad109-6d7c-446d-8716-bfb6923d21c0"
      },
      "execution_count": 11,
      "outputs": [
        {
          "output_type": "display_data",
          "data": {
            "text/plain": [
              "<Figure size 432x288 with 1 Axes>"
            ],
            "image/png": "[encoded data removed]"
          },
          "metadata": {}
        }
      ]
    },
    {
      "cell_type": "markdown",
      "source": [
        "Plotting heatmap for the datset"
      ],
      "metadata": {
        "id": "fva1jEWarJJO"
      }
    },
    {
      "cell_type": "code",
      "source": [
        "plt.figure(figsize=(10, 10))\n",
        "\n",
        "sb.heatmap(df.corr() > 0.9, annot=True, cbar=False)\n",
        "plt.show()"
      ],
      "metadata": {
        "colab": {
          "base_uri": "https://localhost:8080/",
          "height": 592
        },
        "id": "ldpsoiBYJoMa",
        "outputId": "39d5415c-dfae-44d4-dbe0-4ca5203cc729"
      },
      "execution_count": 12,
      "outputs": [
        {
          "output_type": "display_data",
          "data": {
            "text/plain": [
              "<Figure size 720x720 with 1 Axes>"
            ],
            "image/png": "[encoded data removed]"
          },
          "metadata": {
            "needs_background": "light"
          }
        }
      ]
    },
    {
      "cell_type": "code",
      "source": [
        "df['Close'].plot()"
      ],
      "metadata": {
        "colab": {
          "base_uri": "https://localhost:8080/",
          "height": 282
        },
        "id": "Y5lvxAxyJyAJ",
        "outputId": "6195978c-d0eb-4f9d-d95f-cb0d78c8a51e"
      },
      "execution_count": 13,
      "outputs": [
        {
          "output_type": "execute_result",
          "data": {
            "text/plain": [
              "<matplotlib.axes._subplots.AxesSubplot at 0x7fabef61b450>"
            ]
          },
          "metadata": {},
          "execution_count": 13
        },
        {
          "output_type": "display_data",
          "data": {
            "text/plain": [
              "<Figure size 432x288 with 1 Axes>"
            ],
            "image/png": "[encoded data removed]"
          },
          "metadata": {
            "needs_background": "light"
          }
        }
      ]
    },
    {
      "cell_type": "markdown",
      "source": [
        "Scaling the Dataset"
      ],
      "metadata": {
        "id": "XzNJEJSnrPw7"
      }
    },
    {
      "cell_type": "code",
      "source": [
        "#Scaling\n",
        "from sklearn.preprocessing import MinMaxScaler\n",
        "scaler = MinMaxScaler()\n",
        "feature_transform = scaler.fit_transform(df[features])\n",
        "feature_transform= pd.DataFrame(columns=features, data=feature_transform, index=df.index)\n",
        "feature_transform.head()\n",
        "\n"
      ],
      "metadata": {
        "colab": {
          "base_uri": "https://localhost:8080/",
          "height": 206
        },
        "id": "eL9HEo2oKQim",
        "outputId": "89afa903-f4bc-4545-b880-26866a04ef78"
      },
      "execution_count": 14,
      "outputs": [
        {
          "output_type": "execute_result",
          "data": {
            "text/plain": [
              "       Open      High       Low     Close    Volume\n",
              "0  0.932988  0.930808  0.926383  0.918621  0.043444\n",
              "1  0.941008  0.938052  0.926372  0.927501  0.066046\n",
              "2  0.940256  0.950648  0.933579  0.952798  0.054706\n",
              "3  0.952177  0.954978  0.945586  0.938704  0.047279\n",
              "4  0.983122  0.984097  0.971118  0.964885  0.024514"
            ],
            "text/html": [
              "\n",
              "  <div id=\"df-88050350-9398-4115-8d44-098f20bc4bfd\">\n",
              "    <div class=\"colab-df-container\">\n",
              "      <div>\n",
              "<style scoped>\n",
              "    .dataframe tbody tr th:only-of-type {\n",
              "        vertical-align: middle;\n",
              "    }\n",
              "\n",
              "    .dataframe tbody tr th {\n",
              "        vertical-align: top;\n",
              "    }\n",
              "\n",
              "    .dataframe thead th {\n",
              "        text-align: right;\n",
              "    }\n",
              "</style>\n",
              "<table border=\"1\" class=\"dataframe\">\n",
              "  <thead>\n",
              "    <tr style=\"text-align: right;\">\n",
              "      <th></th>\n",
              "      <th>Open</th>\n",
              "      <th>High</th>\n",
              "      <th>Low</th>\n",
              "      <th>Close</th>\n",
              "      <th>Volume</th>\n",
              "    </tr>\n",
              "  </thead>\n",
              "  <tbody>\n",
              "    <tr>\n",
              "      <th>0</th>\n",
              "      <td>0.932988</td>\n",
              "      <td>0.930808</td>\n",
              "      <td>0.926383</td>\n",
              "      <td>0.918621</td>\n",
              "      <td>0.043444</td>\n",
              "    </tr>\n",
              "    <tr>\n",
              "      <th>1</th>\n",
              "      <td>0.941008</td>\n",
              "      <td>0.938052</td>\n",
              "      <td>0.926372</td>\n",
              "      <td>0.927501</td>\n",
              "      <td>0.066046</td>\n",
              "    </tr>\n",
              "    <tr>\n",
              "      <th>2</th>\n",
              "      <td>0.940256</td>\n",
              "      <td>0.950648</td>\n",
              "      <td>0.933579</td>\n",
              "      <td>0.952798</td>\n",
              "      <td>0.054706</td>\n",
              "    </tr>\n",
              "    <tr>\n",
              "      <th>3</th>\n",
              "      <td>0.952177</td>\n",
              "      <td>0.954978</td>\n",
              "      <td>0.945586</td>\n",
              "      <td>0.938704</td>\n",
              "      <td>0.047279</td>\n",
              "    </tr>\n",
              "    <tr>\n",
              "      <th>4</th>\n",
              "      <td>0.983122</td>\n",
              "      <td>0.984097</td>\n",
              "      <td>0.971118</td>\n",
              "      <td>0.964885</td>\n",
              "      <td>0.024514</td>\n",
              "    </tr>\n",
              "  </tbody>\n",
              "</table>\n",
              "</div>\n",
              "      <button class=\"colab-df-convert\" onclick=\"convertToInteractive('df-88050350-9398-4115-8d44-098f20bc4bfd')\"\n",
              "              title=\"Convert this dataframe to an interactive table.\"\n",
              "              style=\"display:none;\">\n",
              "        \n",
              "  <svg xmlns=\"http://www.w3.org/2000/svg\" height=\"24px\"viewBox=\"0 0 24 24\"\n",
              "       width=\"24px\">\n",
              "    <path d=\"M0 0h24v24H0V0z\" fill=\"none\"/>\n",
              "    <path d=\"M18.56 5.44l.94 2.06.94-2.06 2.06-.94-2.06-.94-.94-2.06-.94 2.06-2.06.94zm-11 1L8.5 8.5l.94-2.06 2.06-.94-2.06-.94L8.5 2.5l-.94 2.06-2.06.94zm10 10l.94 2.06.94-2.06 2.06-.94-2.06-.94-.94-2.06-.94 2.06-2.06.94z\"/><path d=\"M17.41 7.96l-1.37-1.37c-.4-.4-.92-.59-1.43-.59-.52 0-1.04.2-1.43.59L10.3 9.45l-7.72 7.72c-.78.78-.78 2.05 0 2.83L4 21.41c.39.39.9.59 1.41.59.51 0 1.02-.2 1.41-.59l7.78-7.78 2.81-2.81c.8-.78.8-2.07 0-2.86zM5.41 20L4 18.59l7.72-7.72 1.47 1.35L5.41 20z\"/>\n",
              "  </svg>\n",
              "      </button>\n",
              "      \n",
              "  <style>\n",
              "    .colab-df-container {\n",
              "      display:flex;\n",
              "      flex-wrap:wrap;\n",
              "      gap: 12px;\n",
              "    }\n",
              "\n",
              "    .colab-df-convert {\n",
              "      background-color: #E8F0FE;\n",
              "      border: none;\n",
              "      border-radius: 50%;\n",
              "      cursor: pointer;\n",
              "      display: none;\n",
              "      fill: #1967D2;\n",
              "      height: 32px;\n",
              "      padding: 0 0 0 0;\n",
              "      width: 32px;\n",
              "    }\n",
              "\n",
              "    .colab-df-convert:hover {\n",
              "      background-color: #E2EBFA;\n",
              "      box-shadow: 0px 1px 2px rgba(60, 64, 67, 0.3), 0px 1px 3px 1px rgba(60, 64, 67, 0.15);\n",
              "      fill: #174EA6;\n",
              "    }\n",
              "\n",
              "    [theme=dark] .colab-df-convert {\n",
              "      background-color: #3B4455;\n",
              "      fill: #D2E3FC;\n",
              "    }\n",
              "\n",
              "    [theme=dark] .colab-df-convert:hover {\n",
              "      background-color: #434B5C;\n",
              "      box-shadow: 0px 1px 3px 1px rgba(0, 0, 0, 0.15);\n",
              "      filter: drop-shadow(0px 1px 2px rgba(0, 0, 0, 0.3));\n",
              "      fill: #FFFFFF;\n",
              "    }\n",
              "  </style>\n",
              "\n",
              "      <script>\n",
              "        const buttonEl =\n",
              "          document.querySelector('#df-88050350-9398-4115-8d44-098f20bc4bfd button.colab-df-convert');\n",
              "        buttonEl.style.display =\n",
              "          google.colab.kernel.accessAllowed ? 'block' : 'none';\n",
              "\n",
              "        async function convertToInteractive(key) {\n",
              "          const element = document.querySelector('#df-88050350-9398-4115-8d44-098f20bc4bfd');\n",
              "          const dataTable =\n",
              "            await google.colab.kernel.invokeFunction('convertToInteractive',\n",
              "                                                     [key], {});\n",
              "          if (!dataTable) return;\n",
              "\n",
              "          const docLinkHtml = 'Like what you see? Visit the ' +\n",
              "            '<a target=\"_blank\" href=https://colab.research.google.com/notebooks/data_table.ipynb>data table notebook</a>'\n",
              "            + ' to learn more about interactive tables.';\n",
              "          element.innerHTML = '';\n",
              "          dataTable['output_type'] = 'display_data';\n",
              "          await google.colab.output.renderOutput(dataTable, element);\n",
              "          const docLink = document.createElement('div');\n",
              "          docLink.innerHTML = docLinkHtml;\n",
              "          element.appendChild(docLink);\n",
              "        }\n",
              "      </script>\n",
              "    </div>\n",
              "  </div>\n",
              "  "
            ]
          },
          "metadata": {},
          "execution_count": 14
        }
      ]
    },
    {
      "cell_type": "markdown",
      "source": [
        "Setting the target values and defining training and testing data"
      ],
      "metadata": {
        "id": "_I8jIhIorUJz"
      }
    },
    {
      "cell_type": "code",
      "source": [
        "#Set Target Variable\n",
        "output_var = pd.DataFrame(df['Close'])\n",
        "#Selecting the Features\n",
        "features = ['Open', 'High', 'Low', 'Volume']"
      ],
      "metadata": {
        "id": "F1pCqRYoK6ru"
      },
      "execution_count": 15,
      "outputs": []
    },
    {
      "cell_type": "code",
      "source": [
        "#Splitting to Training set and Test set\n",
        "timesplit= TimeSeriesSplit(n_splits=10)\n",
        "for train_index, test_index in timesplit.split(feature_transform):\n",
        "        X_train, X_test = feature_transform[:len(train_index)], feature_transform[len(train_index): (len(train_index)+len(test_index))]\n",
        "        y_train, y_test = output_var[:len(train_index)].values.ravel(), output_var[len(train_index): (len(train_index)+len(test_index))].values.ravel()"
      ],
      "metadata": {
        "id": "tys8s4cyQ9Ce"
      },
      "execution_count": 16,
      "outputs": []
    },
    {
      "cell_type": "markdown",
      "source": [
        "Processing the data for applying in LSTM model"
      ],
      "metadata": {
        "id": "ZBCFozTPrb1c"
      }
    },
    {
      "cell_type": "code",
      "source": [
        "#Process the data for LSTM\n",
        "trainX =np.array(X_train)\n",
        "testX =np.array(X_test)\n",
        "X_train = trainX.reshape(X_train.shape[0], 1, X_train.shape[1])\n",
        "X_test = testX.reshape(X_test.shape[0], 1, X_test.shape[1])"
      ],
      "metadata": {
        "id": "UiFLu0mLRJLT"
      },
      "execution_count": 17,
      "outputs": []
    },
    {
      "cell_type": "markdown",
      "source": [
        "Building the LSTM model"
      ],
      "metadata": {
        "id": "pQNG-THTrgtM"
      }
    },
    {
      "cell_type": "code",
      "source": [
        "#Building the LSTM Model\n",
        "lstm = Sequential()\n",
        "lstm.add(LSTM(32, input_shape=(1, trainX.shape[1]), activation='relu', return_sequences=False))\n",
        "lstm.add(Dense(1))\n",
        "lstm.compile(loss='mean_squared_error', optimizer='adam')\n",
        "plot_model(lstm, show_shapes=True, show_layer_names=True)"
      ],
      "metadata": {
        "colab": {
          "base_uri": "https://localhost:8080/",
          "height": 312
        },
        "id": "-wcpXUeERNnR",
        "outputId": "df86c239-1b0b-43fb-8e09-ac57d8d5695a"
      },
      "execution_count": 18,
      "outputs": [
        {
          "output_type": "execute_result",
          "data": {
            "image/png": "[encoded data removed]",
            "text/plain": [
              "<IPython.core.display.Image object>"
            ]
          },
          "metadata": {},
          "execution_count": 18
        }
      ]
    },
    {
      "cell_type": "markdown",
      "source": [
        "Calculating the epoch value for the Datset "
      ],
      "metadata": {
        "id": "nEDeT2mVrkT8"
      }
    },
    {
      "cell_type": "code",
      "source": [
        "history=lstm.fit(X_train, y_train, epochs=100, batch_size=8, verbose=1, shuffle=False)"
      ],
      "metadata": {
        "colab": {
          "base_uri": "https://localhost:8080/",
          "height": 0
        },
        "id": "kVf7VcoBnkhp",
        "outputId": "5923cea0-1fbe-4e93-8457-3f9f04e619ea"
      },
      "execution_count": 19,
      "outputs": [
        {
          "output_type": "stream",
          "name": "stdout",
          "text": [
            "Epoch 1/100\n",
            "358/358 [==============================] - 3s 3ms/step - loss: 208129.1875\n",
            "Epoch 2/100\n",
            "358/358 [==============================] - 1s 3ms/step - loss: 200551.6094\n",
            "Epoch 3/100\n",
            "358/358 [==============================] - 1s 3ms/step - loss: 179758.9531\n",
            "Epoch 4/100\n",
            "358/358 [==============================] - 1s 3ms/step - loss: 151458.8594\n",
            "Epoch 5/100\n",
            "358/358 [==============================] - 1s 3ms/step - loss: 121093.7266\n",
            "Epoch 6/100\n",
            "358/358 [==============================] - 1s 3ms/step - loss: 92000.9531\n",
            "Epoch 7/100\n",
            "358/358 [==============================] - 1s 3ms/step - loss: 66423.3438\n",
            "Epoch 8/100\n",
            "358/358 [==============================] - 1s 3ms/step - loss: 45667.2422\n",
            "Epoch 9/100\n",
            "358/358 [==============================] - 1s 3ms/step - loss: 30148.5352\n",
            "Epoch 10/100\n",
            "358/358 [==============================] - 1s 3ms/step - loss: 19500.6504\n",
            "Epoch 11/100\n",
            "358/358 [==============================] - 1s 3ms/step - loss: 12791.6543\n",
            "Epoch 12/100\n",
            "358/358 [==============================] - 1s 3ms/step - loss: 8836.2373\n",
            "Epoch 13/100\n",
            "358/358 [==============================] - 1s 3ms/step - loss: 6512.7007\n",
            "Epoch 14/100\n",
            "358/358 [==============================] - 1s 3ms/step - loss: 4962.9795\n",
            "Epoch 15/100\n",
            "358/358 [==============================] - 1s 3ms/step - loss: 3671.0828\n",
            "Epoch 16/100\n",
            "358/358 [==============================] - 1s 3ms/step - loss: 2531.6829\n",
            "Epoch 17/100\n",
            "358/358 [==============================] - 1s 3ms/step - loss: 1650.7705\n",
            "Epoch 18/100\n",
            "358/358 [==============================] - 1s 3ms/step - loss: 998.1915\n",
            "Epoch 19/100\n",
            "358/358 [==============================] - 1s 3ms/step - loss: 558.2810\n",
            "Epoch 20/100\n",
            "358/358 [==============================] - 1s 3ms/step - loss: 305.7664\n",
            "Epoch 21/100\n",
            "358/358 [==============================] - 1s 3ms/step - loss: 179.7153\n",
            "Epoch 22/100\n",
            "358/358 [==============================] - 1s 3ms/step - loss: 122.1551\n",
            "Epoch 23/100\n",
            "358/358 [==============================] - 1s 3ms/step - loss: 95.5815\n",
            "Epoch 24/100\n",
            "358/358 [==============================] - 1s 3ms/step - loss: 81.4537\n",
            "Epoch 25/100\n",
            "358/358 [==============================] - 1s 3ms/step - loss: 72.1998\n",
            "Epoch 26/100\n",
            "358/358 [==============================] - 1s 3ms/step - loss: 65.0623\n",
            "Epoch 27/100\n",
            "358/358 [==============================] - 1s 3ms/step - loss: 59.0854\n",
            "Epoch 28/100\n",
            "358/358 [==============================] - 1s 3ms/step - loss: 53.9211\n",
            "Epoch 29/100\n",
            "358/358 [==============================] - 1s 3ms/step - loss: 49.4192\n",
            "Epoch 30/100\n",
            "358/358 [==============================] - 1s 3ms/step - loss: 45.4994\n",
            "Epoch 31/100\n",
            "358/358 [==============================] - 1s 3ms/step - loss: 42.1106\n",
            "Epoch 32/100\n",
            "358/358 [==============================] - 1s 3ms/step - loss: 39.2098\n",
            "Epoch 33/100\n",
            "358/358 [==============================] - 1s 3ms/step - loss: 36.7507\n",
            "Epoch 34/100\n",
            "358/358 [==============================] - 1s 3ms/step - loss: 34.6794\n",
            "Epoch 35/100\n",
            "358/358 [==============================] - 1s 3ms/step - loss: 32.9367\n",
            "Epoch 36/100\n",
            "358/358 [==============================] - 1s 3ms/step - loss: 31.4645\n",
            "Epoch 37/100\n",
            "358/358 [==============================] - 1s 3ms/step - loss: 30.2083\n",
            "Epoch 38/100\n",
            "358/358 [==============================] - 1s 3ms/step - loss: 29.1218\n",
            "Epoch 39/100\n",
            "358/358 [==============================] - 1s 3ms/step - loss: 28.1636\n",
            "Epoch 40/100\n",
            "358/358 [==============================] - 1s 3ms/step - loss: 27.2976\n",
            "Epoch 41/100\n",
            "358/358 [==============================] - 1s 3ms/step - loss: 26.4919\n",
            "Epoch 42/100\n",
            "358/358 [==============================] - 1s 3ms/step - loss: 25.7176\n",
            "Epoch 43/100\n",
            "358/358 [==============================] - 1s 3ms/step - loss: 24.9525\n",
            "Epoch 44/100\n",
            "358/358 [==============================] - 1s 3ms/step - loss: 24.1839\n",
            "Epoch 45/100\n",
            "358/358 [==============================] - 1s 3ms/step - loss: 23.4108\n",
            "Epoch 46/100\n",
            "358/358 [==============================] - 1s 3ms/step - loss: 22.6435\n",
            "Epoch 47/100\n",
            "358/358 [==============================] - 1s 3ms/step - loss: 21.8989\n",
            "Epoch 48/100\n",
            "358/358 [==============================] - 1s 3ms/step - loss: 21.1931\n",
            "Epoch 49/100\n",
            "358/358 [==============================] - 1s 3ms/step - loss: 20.5382\n",
            "Epoch 50/100\n",
            "358/358 [==============================] - 1s 3ms/step - loss: 19.9414\n",
            "Epoch 51/100\n",
            "358/358 [==============================] - 1s 3ms/step - loss: 19.4045\n",
            "Epoch 52/100\n",
            "358/358 [==============================] - 1s 3ms/step - loss: 18.9262\n",
            "Epoch 53/100\n",
            "358/358 [==============================] - 1s 3ms/step - loss: 18.5020\n",
            "Epoch 54/100\n",
            "358/358 [==============================] - 1s 3ms/step - loss: 18.1273\n",
            "Epoch 55/100\n",
            "358/358 [==============================] - 1s 3ms/step - loss: 17.7964\n",
            "Epoch 56/100\n",
            "358/358 [==============================] - 1s 3ms/step - loss: 17.5040\n",
            "Epoch 57/100\n",
            "358/358 [==============================] - 1s 3ms/step - loss: 17.2450\n",
            "Epoch 58/100\n",
            "358/358 [==============================] - 1s 3ms/step - loss: 17.0144\n",
            "Epoch 59/100\n",
            "358/358 [==============================] - 1s 3ms/step - loss: 16.8080\n",
            "Epoch 60/100\n",
            "358/358 [==============================] - 1s 3ms/step - loss: 16.6221\n",
            "Epoch 61/100\n",
            "358/358 [==============================] - 1s 3ms/step - loss: 16.4533\n",
            "Epoch 62/100\n",
            "358/358 [==============================] - 1s 3ms/step - loss: 16.2987\n",
            "Epoch 63/100\n",
            "358/358 [==============================] - 1s 3ms/step - loss: 16.1556\n",
            "Epoch 64/100\n",
            "358/358 [==============================] - 1s 3ms/step - loss: 16.0220\n",
            "Epoch 65/100\n",
            "358/358 [==============================] - 1s 3ms/step - loss: 15.8960\n",
            "Epoch 66/100\n",
            "358/358 [==============================] - 1s 3ms/step - loss: 15.7759\n",
            "Epoch 67/100\n",
            "358/358 [==============================] - 1s 3ms/step - loss: 15.6608\n",
            "Epoch 68/100\n",
            "358/358 [==============================] - 1s 3ms/step - loss: 15.5489\n",
            "Epoch 69/100\n",
            "358/358 [==============================] - 1s 3ms/step - loss: 15.4397\n",
            "Epoch 70/100\n",
            "358/358 [==============================] - 1s 3ms/step - loss: 15.3324\n",
            "Epoch 71/100\n",
            "358/358 [==============================] - 1s 3ms/step - loss: 15.2260\n",
            "Epoch 72/100\n",
            "358/358 [==============================] - 1s 3ms/step - loss: 15.1201\n",
            "Epoch 73/100\n",
            "358/358 [==============================] - 1s 3ms/step - loss: 15.0143\n",
            "Epoch 74/100\n",
            "358/358 [==============================] - 1s 3ms/step - loss: 14.9083\n",
            "Epoch 75/100\n",
            "358/358 [==============================] - 1s 3ms/step - loss: 14.8014\n",
            "Epoch 76/100\n",
            "358/358 [==============================] - 1s 3ms/step - loss: 14.6936\n",
            "Epoch 77/100\n",
            "358/358 [==============================] - 1s 3ms/step - loss: 14.5846\n",
            "Epoch 78/100\n",
            "358/358 [==============================] - 1s 3ms/step - loss: 14.4744\n",
            "Epoch 79/100\n",
            "358/358 [==============================] - 1s 3ms/step - loss: 14.3626\n",
            "Epoch 80/100\n",
            "358/358 [==============================] - 1s 3ms/step - loss: 14.2493\n",
            "Epoch 81/100\n",
            "358/358 [==============================] - 1s 3ms/step - loss: 14.1345\n",
            "Epoch 82/100\n",
            "358/358 [==============================] - 1s 3ms/step - loss: 14.0179\n",
            "Epoch 83/100\n",
            "358/358 [==============================] - 1s 3ms/step - loss: 13.8997\n",
            "Epoch 84/100\n",
            "358/358 [==============================] - 1s 3ms/step - loss: 13.7798\n",
            "Epoch 85/100\n",
            "358/358 [==============================] - 1s 3ms/step - loss: 13.6583\n",
            "Epoch 86/100\n",
            "358/358 [==============================] - 1s 3ms/step - loss: 13.5352\n",
            "Epoch 87/100\n",
            "358/358 [==============================] - 1s 3ms/step - loss: 13.4107\n",
            "Epoch 88/100\n",
            "358/358 [==============================] - 1s 3ms/step - loss: 13.2848\n",
            "Epoch 89/100\n",
            "358/358 [==============================] - 1s 3ms/step - loss: 13.1576\n",
            "Epoch 90/100\n",
            "358/358 [==============================] - 1s 3ms/step - loss: 13.0291\n",
            "Epoch 91/100\n",
            "358/358 [==============================] - 1s 3ms/step - loss: 12.8996\n",
            "Epoch 92/100\n",
            "358/358 [==============================] - 1s 3ms/step - loss: 12.7691\n",
            "Epoch 93/100\n",
            "358/358 [==============================] - 1s 3ms/step - loss: 12.6377\n",
            "Epoch 94/100\n",
            "358/358 [==============================] - 1s 3ms/step - loss: 12.5056\n",
            "Epoch 95/100\n",
            "358/358 [==============================] - 1s 3ms/step - loss: 12.3730\n",
            "Epoch 96/100\n",
            "358/358 [==============================] - 1s 3ms/step - loss: 12.2398\n",
            "Epoch 97/100\n",
            "358/358 [==============================] - 1s 3ms/step - loss: 12.1063\n",
            "Epoch 98/100\n",
            "358/358 [==============================] - 1s 3ms/step - loss: 11.9726\n",
            "Epoch 99/100\n",
            "358/358 [==============================] - 1s 3ms/step - loss: 11.8388\n",
            "Epoch 100/100\n",
            "358/358 [==============================] - 1s 3ms/step - loss: 11.7050\n"
          ]
        }
      ]
    },
    {
      "cell_type": "code",
      "source": [
        "#LSTM Prediction\n",
        "y_pred= lstm.predict(X_test)"
      ],
      "metadata": {
        "colab": {
          "base_uri": "https://localhost:8080/",
          "height": 0
        },
        "id": "W6nx1ALApIbe",
        "outputId": "e6c91e21-729a-461d-ff4a-d1c77f121324"
      },
      "execution_count": 20,
      "outputs": [
        {
          "output_type": "stream",
          "name": "stdout",
          "text": [
            "9/9 [==============================] - 0s 2ms/step\n"
          ]
        }
      ]
    },
    {
      "cell_type": "markdown",
      "source": [
        "Plotting the graph of predicted stock value and Actual value"
      ],
      "metadata": {
        "id": "OhOy2c9rrsfB"
      }
    },
    {
      "cell_type": "code",
      "source": [
        "#Predicted vs True Adj Close Value – LSTM\n",
        "plt.plot(y_test, label='True Value')\n",
        "plt.plot(y_pred, label='LSTM Value')\n",
        "plt.title(\"Prediction by LSTM\")\n",
        "plt.xlabel('Time Scale')\n",
        "plt.ylabel('Scaled USD')\n",
        "plt.legend()\n",
        "plt.show()"
      ],
      "metadata": {
        "colab": {
          "base_uri": "https://localhost:8080/",
          "height": 295
        },
        "id": "7kORw0q3pXhP",
        "outputId": "714f2b0a-c2f7-4cf9-95ce-0c769f6291ee"
      },
      "execution_count": 21,
      "outputs": [
        {
          "output_type": "display_data",
          "data": {
            "text/plain": [
              "<Figure size 432x288 with 1 Axes>"
            ],
            "image/png": "[encoded data removed]"
          },
          "metadata": {
            "needs_background": "light"
          }
        }
      ]
    },
    {
      "cell_type": "markdown",
      "source": [
        "Appling the dataset for other models and calculating the accuracy for those models "
      ],
      "metadata": {
        "id": "Um-dwsurrymW"
      }
    },
    {
      "cell_type": "code",
      "source": [
        "from sklearn.model_selection import train_test_split\n",
        "from sklearn.preprocessing import StandardScaler\n",
        "from sklearn.linear_model import LogisticRegression\n",
        "from sklearn.svm import SVC\n",
        "from xgboost import XGBClassifier\n",
        "from sklearn import metrics\n",
        "from tensorflow.python.keras.layers.recurrent import LSTM\n",
        "\n",
        "df['open-close']  = df['Open'] - df['Close']\n",
        "df['low-high']  = df['Low'] - df['High']\n",
        "df['target'] = np.where(df['Close'].shift(-1) > df['Close'], 1, 0)\n",
        "\n",
        "features = df[['open-close', 'low-high', 'Year']]\n",
        "target = df['target']\n",
        " \n",
        "scaler = StandardScaler()\n",
        "features = scaler.fit_transform(features)\n",
        " \n",
        "X_train, X_valid, Y_train, Y_valid = train_test_split(\n",
        "    features, target, test_size=0.1, random_state=2022)\n",
        "print(X_train.shape, X_valid.shape,'\\n\\n')\n",
        "\n",
        "models = [LogisticRegression(), SVC(\n",
        "  kernel='poly', probability=True), XGBClassifier()]\n",
        " \n",
        "for i in range(3):\n",
        "  models[i].fit(X_train, Y_train)\n",
        " \n",
        "  print(f'{models[i]} : ')\n",
        "  print('Training Accuracy : ', metrics.roc_auc_score(Y_train, models[i].predict_proba(X_train)[:,1]))\n",
        "  print('Validation Accuracy : ', metrics.roc_auc_score(Y_valid, models[i].predict_proba(X_valid)[:,1]))\n",
        "  print()"
      ],
      "metadata": {
        "colab": {
          "base_uri": "https://localhost:8080/",
          "height": 0
        },
        "id": "ndlsbt4artvA",
        "outputId": "5bca1bdd-05d4-420e-e3e0-879b74b7bb98"
      },
      "execution_count": 57,
      "outputs": [
        {
          "output_type": "stream",
          "name": "stdout",
          "text": [
            "(2830, 3) (315, 3) \n",
            "\n",
            "\n",
            "LogisticRegression() : \n",
            "Training Accuracy :  0.9115537167270719\n",
            "Validation Accuracy :  0.9145858585858586\n",
            "\n",
            "SVC(kernel='poly', probability=True) : \n",
            "Training Accuracy :  0.8956188144556722\n",
            "Validation Accuracy :  0.8861212121212122\n",
            "\n",
            "XGBClassifier() : \n",
            "Training Accuracy :  0.9366449247533783\n",
            "Validation Accuracy :  0.9161212121212121\n",
            "\n"
          ]
        }
      ]
    },
    {
      "cell_type": "markdown",
      "source": [
        "Constructing confusin matrix for the LSTM Model"
      ],
      "metadata": {
        "id": "XJ6jZbQpr8Ck"
      }
    },
    {
      "cell_type": "code",
      "source": [
        "metrics.plot_confusion_matrix(models[0], X_valid, Y_valid)\n",
        "plt.show()"
      ],
      "metadata": {
        "colab": {
          "base_uri": "https://localhost:8080/",
          "height": 281
        },
        "id": "K-yj4DYrxnK_",
        "outputId": "fe7bd713-66a9-466f-a477-db2744bdb87d"
      },
      "execution_count": 39,
      "outputs": [
        {
          "output_type": "display_data",
          "data": {
            "text/plain": [
              "<Figure size 432x288 with 2 Axes>"
            ],
            "image/png": "[encoded data removed]"
          },
          "metadata": {
            "needs_background": "light"
          }
        }
      ]
    },
    {
      "cell_type": "markdown",
      "source": [
        "Predicting the value of stock for nearest future"
      ],
      "metadata": {
        "id": "4Wc-h_XIsDIt"
      }
    },
    {
      "cell_type": "code",
      "source": [
        "#importing the packages \n",
        "from sklearn.preprocessing import MinMaxScaler\n",
        "from keras.models import Sequential\n",
        "from keras.layers import Dense, Dropout, LSTM\n",
        "#dataframe creation\n",
        "seriesdata = df.sort_index(ascending=True, axis=0)\n",
        "new_seriesdata = pd.DataFrame(index=range(0,len(df)),columns=['Date','Close'])\n",
        "length_of_data=len(seriesdata)\n",
        "for i in range(0,length_of_data):\n",
        "    new_seriesdata['Date'][i] = seriesdata['Date'][i]\n",
        "    new_seriesdata['Close'][i] = seriesdata['Close'][i]\n",
        "#setting the index again\n",
        "new_seriesdata.index = new_seriesdata.Date\n",
        "new_seriesdata.drop('Date', axis=1, inplace=True)\n",
        "#creating train and test sets this comprises the entire data’s present in the dataset\n",
        "myseriesdataset = new_seriesdata.values\n",
        "totrain = myseriesdataset[0:255,:]\n",
        "tovalid = myseriesdataset[255:,:]\n",
        "#converting dataset into x_train and y_train\n",
        "scalerdata = MinMaxScaler(feature_range=(0, 1))\n",
        "scale_data = scalerdata.fit_transform(myseriesdataset)\n",
        "x_totrain, y_totrain = [], []\n",
        "length_of_totrain=len(totrain)\n",
        "for i in range(60,length_of_totrain):\n",
        "    x_totrain.append(scale_data[i-60:i,0])\n",
        "    y_totrain.append(scale_data[i,0])\n",
        "x_totrain, y_totrain = np.array(x_totrain), np.array(y_totrain)\n",
        "x_totrain = np.reshape(x_totrain, (x_totrain.shape[0],x_totrain.shape[1],1))\n",
        "#LSTM neural network\n",
        "lstm_model = Sequential()\n",
        "lstm_model.add(LSTM(units=50, return_sequences=True, input_shape=(x_totrain.shape[1],1)))\n",
        "lstm_model.add(LSTM(units=50))\n",
        "lstm_model.add(Dense(1))\n",
        "lstm_model.compile(loss='mean_squared_error', optimizer='adadelta')\n",
        "# lstm_model.fit(x_totrain, y_totrain, epochs=3, batch_size=1, verbose=2)\n",
        "#predicting next data stock price\n",
        "myinputs = new_seriesdata[len(new_seriesdata) - (len(tovalid)+1) - 60:].values\n",
        "myinputs = myinputs.reshape(-1,1)\n",
        "myinputs  = scalerdata.transform(myinputs)\n",
        "tostore_test_result = []\n",
        "for i in range(60,myinputs.shape[0]):\n",
        "    tostore_test_result.append(myinputs[i-60:i,0])\n",
        "tostore_test_result = np.array(tostore_test_result)\n",
        "tostore_test_result = np.reshape(tostore_test_result,(tostore_test_result.shape[0],tostore_test_result.shape[1],1))\n",
        "myclosing_priceresult = lstm_model.predict(tostore_test_result)\n",
        "myclosing_priceresult = scalerdata.inverse_transform(myclosing_priceresult)\n",
        "\n",
        "totrain = myseriesdataset[0:255,:]\n",
        "tovalid = myseriesdataset[255:,:]\n",
        "\n",
        "#predicting next data stock price\n",
        "myinputs = new_seriesdata[len(new_seriesdata) - (len(tovalid)+1) - 60:].values\n",
        "\n",
        "print(len(tostore_test_result));\n",
        "print(myclosing_priceresult);\n",
        "\n"
      ],
      "metadata": {
        "colab": {
          "base_uri": "https://localhost:8080/",
          "height": 0
        },
        "id": "yQqmNvNYi6IJ",
        "outputId": "8acecc5c-2ddc-4808-9d15-7c8d87ec0b96"
      },
      "execution_count": 54,
      "outputs": [
        {
          "output_type": "stream",
          "name": "stdout",
          "text": [
            "91/91 [==============================] - 3s 19ms/step\n",
            "2891\n",
            "[[220.51897 ]\n",
            " [219.74033 ]\n",
            " [218.89668 ]\n",
            " ...\n",
            " [ 89.4694  ]\n",
            " [ 89.45935 ]\n",
            " [ 89.456635]]\n"
          ]
        }
      ]
    }
  ]
}